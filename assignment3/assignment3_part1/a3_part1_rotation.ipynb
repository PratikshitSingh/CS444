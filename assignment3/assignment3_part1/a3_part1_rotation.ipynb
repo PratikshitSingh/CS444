{
  "cells": [
    {
      "cell_type": "markdown",
      "metadata": {
        "id": "IWMWW8Ab_345"
      },
      "source": [
        "# (Optional) Colab Setup\n",
        "If you aren't using Colab, you can delete the following code cell. This is just to help students with mounting to Google Drive to access the other .py files and downloading the data, which is a little trickier on Colab than on your local machine using Jupyter."
      ]
    },
    {
      "cell_type": "code",
      "execution_count": null,
      "metadata": {
        "colab": {
          "base_uri": "https://localhost:8080/"
        },
        "id": "vH4wc4iD_6w_",
        "outputId": "4c562b4f-9822-4723-fe47-986d4e371a6a"
      },
      "outputs": [
        {
          "output_type": "stream",
          "name": "stdout",
          "text": [
            "Mounted at /content/drive\n"
          ]
        }
      ],
      "source": [
        "# you will be prompted with a window asking to grant permissions\n",
        "from google.colab import drive\n",
        "drive.mount(\"/content/drive\")"
      ]
    },
    {
      "cell_type": "code",
      "execution_count": null,
      "metadata": {
        "colab": {
          "base_uri": "https://localhost:8080/"
        },
        "id": "XpNsPHZc_879",
        "outputId": "e3cc2269-34fe-4a5a-a249-d4c077ea8f8b"
      },
      "outputs": [
        {
          "output_type": "stream",
          "name": "stdout",
          "text": [
            "/content/drive/My Drive/CS444/assignment3_starter/assignment3_part1\n"
          ]
        }
      ],
      "source": [
        "# fill in the path in your Google Drive in the string below. Note: do not escape slashes or spaces\n",
        "import os\n",
        "datadir = \"/content/drive/My Drive/CS444/assignment3_starter/assignment3_part1/\"\n",
        "if not os.path.exists(datadir):\n",
        "  !ln -s \"/content/drive/My Drive/CS444/assignment3_starter/assignment3_part1/\" $datadir # TODO: Fill your A3 path\n",
        "os.chdir(datadir)\n",
        "!pwd"
      ]
    },
    {
      "cell_type": "markdown",
      "metadata": {
        "id": "Um5DJvBwb6xT"
      },
      "source": [
        "#Data Setup\n",
        "\n",
        "The first thing to do is implement a dataset class to load rotated CIFAR10 images with matching labels. Since there is already a CIFAR10 dataset class implemented in `torchvision`, we will extend this class and modify the `__get_item__` method appropriately to load rotated images.\n",
        "\n",
        "Each rotation label should be an integer in the set {0, 1, 2, 3} which correspond to rotations of 0, 90, 180, or 270 degrees respectively."
      ]
    },
    {
      "cell_type": "code",
      "execution_count": null,
      "metadata": {
        "id": "oHkeNUOKiFbP"
      },
      "outputs": [],
      "source": [
        "import torch\n",
        "import torchvision\n",
        "import torchvision.transforms as transforms\n",
        "import numpy as np\n",
        "import random\n",
        "\n",
        "\n",
        "def rotate_img(img, rot):\n",
        "    if rot == 0: # 0 degrees rotation\n",
        "      return img\n",
        "    elif rot == 1:\n",
        "      return transforms.functional.rotate(img, 90)\n",
        "    elif rot == 2:\n",
        "      return transforms.functional.rotate(img, 180)\n",
        "    elif rot == 3:\n",
        "      return transforms.functional.rotate(img, 270)\n",
        "    else:\n",
        "      raise ValueError('rotation should be 0, 90, 180, or 270 degrees')\n",
        "\n",
        "\n",
        "class CIFAR10Rotation(torchvision.datasets.CIFAR10):\n",
        "\n",
        "    def __init__(self, root, train, download, transform) -> None:\n",
        "        super().__init__(root=root, train=train, download=download, transform=transform)\n",
        "\n",
        "    def __len__(self):\n",
        "        return len(self.data)\n",
        "\n",
        "    def __getitem__(self, index: int):\n",
        "        image, cls_label = super().__getitem__(index)\n",
        "\n",
        "        # randomly select image rotation\n",
        "        rotation_label = random.choice([0, 1, 2, 3])\n",
        "        image_rotated = rotate_img(image, rotation_label)\n",
        "\n",
        "        rotation_label = torch.tensor(rotation_label).long()\n",
        "        return image, image_rotated, rotation_label, torch.tensor(cls_label).long()"
      ]
    },
    {
      "cell_type": "code",
      "execution_count": null,
      "metadata": {
        "colab": {
          "base_uri": "https://localhost:8080/"
        },
        "id": "CCBSpNWpb8uw",
        "outputId": "2221769f-7987-4f0b-a979-ba380a4cec76"
      },
      "outputs": [
        {
          "output_type": "stream",
          "name": "stdout",
          "text": [
            "Files already downloaded and verified\n",
            "Files already downloaded and verified\n"
          ]
        }
      ],
      "source": [
        "transform_train = transforms.Compose([\n",
        "    transforms.RandomCrop(32, padding=4),\n",
        "    transforms.RandomHorizontalFlip(),\n",
        "    transforms.ToTensor(),\n",
        "    transforms.Normalize((0.4914, 0.4822, 0.4465), (0.2023, 0.1994, 0.2010)),\n",
        "])\n",
        "\n",
        "transform_test = transforms.Compose([\n",
        "    transforms.ToTensor(),\n",
        "    transforms.Normalize((0.4914, 0.4822, 0.4465), (0.2023, 0.1994, 0.2010)),\n",
        "])\n",
        "\n",
        "batch_size = 128\n",
        "\n",
        "trainset = CIFAR10Rotation(root='./data', train=True,\n",
        "                                        download=True, transform=transform_train)\n",
        "trainloader = torch.utils.data.DataLoader(trainset, batch_size=batch_size,\n",
        "                                          shuffle=True, num_workers=2)\n",
        "\n",
        "testset = CIFAR10Rotation(root='./data', train=False,\n",
        "                                       download=True, transform=transform_test)\n",
        "testloader = torch.utils.data.DataLoader(testset, batch_size=batch_size,\n",
        "                                         shuffle=False, num_workers=2)"
      ]
    },
    {
      "cell_type": "markdown",
      "metadata": {
        "id": "dOCWMyGhVOJB"
      },
      "source": [
        "Show some example images and rotated images with labels:"
      ]
    },
    {
      "cell_type": "code",
      "execution_count": null,
      "metadata": {
        "colab": {
          "base_uri": "https://localhost:8080/",
          "height": 428
        },
        "id": "A9wN4BJWVMzB",
        "outputId": "f23d4fcc-ccfd-4061-979e-e71462a39798"
      },
      "outputs": [
        {
          "output_type": "stream",
          "name": "stderr",
          "text": [
            "WARNING:matplotlib.image:Clipping input data to the valid range for imshow with RGB data ([0..1] for floats or [0..255] for integers).\n"
          ]
        },
        {
          "output_type": "display_data",
          "data": {
            "text/plain": [
              "<Figure size 640x480 with 1 Axes>"
            ],
            "image/png": "[encoded data removed]"
          },
          "metadata": {}
        },
        {
          "output_type": "stream",
          "name": "stderr",
          "text": [
            "WARNING:matplotlib.image:Clipping input data to the valid range for imshow with RGB data ([0..1] for floats or [0..255] for integers).\n"
          ]
        },
        {
          "output_type": "stream",
          "name": "stdout",
          "text": [
            "Class labels:  dog   bird  bird  car  \n"
          ]
        },
        {
          "output_type": "display_data",
          "data": {
            "text/plain": [
              "<Figure size 640x480 with 1 Axes>"
            ],
            "image/png": "[encoded data removed]"
          },
          "metadata": {}
        },
        {
          "output_type": "stream",
          "name": "stdout",
          "text": [
            "Rotation labels:  180   90    180   0    \n"
          ]
        }
      ],
      "source": [
        "import matplotlib.pyplot as plt\n",
        "\n",
        "classes = ('plane', 'car', 'bird', 'cat',\n",
        "           'deer', 'dog', 'frog', 'horse', 'ship', 'truck')\n",
        "\n",
        "rot_classes = ('0', '90', '180', '270')\n",
        "\n",
        "\n",
        "def imshow(img):\n",
        "    # unnormalize\n",
        "    img = transforms.Normalize((0, 0, 0), (1/0.2023, 1/0.1994, 1/0.2010))(img)\n",
        "    img = transforms.Normalize((-0.4914, -0.4822, -0.4465), (1, 1, 1))(img)\n",
        "    npimg = img.numpy()\n",
        "    plt.imshow(np.transpose(npimg, (1, 2, 0)))\n",
        "    plt.show()\n",
        "\n",
        "\n",
        "dataiter = iter(trainloader)\n",
        "images, rot_images, rot_labels, labels = next(dataiter)\n",
        "\n",
        "# print images and rotated images\n",
        "img_grid = imshow(torchvision.utils.make_grid(images[:4], padding=0))\n",
        "print('Class labels: ', ' '.join(f'{classes[labels[j]]:5s}' for j in range(4)))\n",
        "img_grid = imshow(torchvision.utils.make_grid(rot_images[:4], padding=0))\n",
        "print('Rotation labels: ', ' '.join(f'{rot_classes[rot_labels[j]]:5s}' for j in range(4)))"
      ]
    },
    {
      "cell_type": "markdown",
      "metadata": {
        "id": "unCucbHexG4W"
      },
      "source": [
        "#Evaluation code"
      ]
    },
    {
      "cell_type": "code",
      "execution_count": null,
      "metadata": {
        "id": "pptQRpqK0rOl"
      },
      "outputs": [],
      "source": [
        "import time\n",
        "\n",
        "def run_test(net, testloader, criterion, task):\n",
        "    correct = 0\n",
        "    total = 0\n",
        "    avg_test_loss = 0.0\n",
        "    # since we're not training, we don't need to calculate the gradients for our outputs\n",
        "    with torch.no_grad():\n",
        "        for images, images_rotated, labels, cls_labels in testloader:\n",
        "            if task == 'rotation':\n",
        "              images, labels = images_rotated.to(device), labels.to(device)\n",
        "            elif task == 'classification':\n",
        "              images, labels = images.to(device), cls_labels.to(device)\n",
        "            # TODO: Calculate outputs by running images through the network\n",
        "            # The class with the highest energy is what we choose as prediction\n",
        "            outputs = net(images)\n",
        "            predicted = torch.argmax(outputs, axis =1 )\n",
        "            total += labels.size(0)\n",
        "\n",
        "            avg_test_loss += criterion(outputs, labels)  / len(testloader)\n",
        "            correct += (predicted == labels).sum().item()\n",
        "    print('TESTING:')\n",
        "\n",
        "    print(f'Accuracy of the network on the 10000 test images: {100 * correct / total:.2f} %')\n",
        "    print(f'Average loss on the 10000 test images: {avg_test_loss:.3f}')"
      ]
    },
    {
      "cell_type": "code",
      "execution_count": null,
      "metadata": {
        "id": "hf698c16A9k5"
      },
      "outputs": [],
      "source": [
        "def adjust_learning_rate(optimizer, epoch, init_lr, decay_epochs=30):\n",
        "    \"\"\"Sets the learning rate to the initial LR decayed by 10 every 30 epochs\"\"\"\n",
        "    lr = init_lr * (0.1 ** (epoch // decay_epochs))\n",
        "    for param_group in optimizer.param_groups:\n",
        "        param_group['lr'] = lr"
      ]
    },
    {
      "cell_type": "markdown",
      "metadata": {
        "id": "3lYdnb1Wsta_"
      },
      "source": [
        "#Train a ResNet18 on the rotation task\n",
        "\n",
        "In this section, we will train a ResNet18 model on the rotation task. The input is a rotated image and the model predicts the rotation label. See the Data Setup section for details."
      ]
    },
    {
      "cell_type": "code",
      "execution_count": null,
      "metadata": {
        "colab": {
          "base_uri": "https://localhost:8080/",
          "height": 35
        },
        "id": "knAiwdURvBHk",
        "outputId": "8cb2b314-bf79-45f0-94d5-7e5d00ee22a5"
      },
      "outputs": [
        {
          "output_type": "execute_result",
          "data": {
            "text/plain": [
              "'cuda'"
            ],
            "application/vnd.google.colaboratory.intrinsic+json": {
              "type": "string"
            }
          },
          "metadata": {},
          "execution_count": 9
        }
      ],
      "source": [
        "device = 'cuda' if torch.cuda.is_available() else 'cpu'\n",
        "device"
      ]
    },
    {
      "cell_type": "code",
      "execution_count": null,
      "metadata": {
        "id": "235MEIUgsv65"
      },
      "outputs": [],
      "source": [
        "import torch.nn as nn\n",
        "import torch.nn.functional as F\n",
        "\n",
        "from torchvision.models import resnet18\n",
        "\n",
        "net = resnet18(num_classes=4)\n",
        "net = net.to(device)"
      ]
    },
    {
      "cell_type": "code",
      "execution_count": null,
      "metadata": {
        "id": "Vuhiw0ZoszAd"
      },
      "outputs": [],
      "source": [
        "import torch.optim as optim\n",
        "criterion = None\n",
        "optimizer = None\n",
        "\n",
        "# TODO: Define criterion and optimizer\n",
        "#\n",
        "criterion = nn.CrossEntropyLoss()\n",
        "optimizer = torch.optim.Adam(lr = 1e-3, params= net.parameters())\n"
      ]
    },
    {
      "cell_type": "code",
      "execution_count": null,
      "metadata": {
        "id": "WleH-YBgs0rq"
      },
      "outputs": [],
      "source": [
        "# Both the self-supervised rotation task and supervised CIFAR10 classification are\n",
        "# trained with the CrossEntropyLoss, so we can use the training loop code.\n",
        "\n",
        "def train(net, criterion, optimizer, num_epochs, decay_epochs, init_lr, task):\n",
        "\n",
        "    for epoch in range(num_epochs):  # loop over the dataset multiple times\n",
        "\n",
        "        running_loss = 0.0\n",
        "        running_correct = 0.0\n",
        "        running_total = 0.0\n",
        "        start_time = time.time()\n",
        "\n",
        "        net.train()\n",
        "\n",
        "        for i, (imgs, imgs_rotated, rotation_label, cls_label) in enumerate(trainloader, 0):\n",
        "            adjust_learning_rate(optimizer, epoch, init_lr, decay_epochs)\n",
        "\n",
        "            # TODO: Set the data to the correct device; Different task will use different inputs and labels\n",
        "\n",
        "            if task == 'rotation':\n",
        "              images, labels = imgs_rotated.to(device), rotation_label.to(device)\n",
        "            elif task == 'classification':\n",
        "              images, labels = imgs.to(device), cls_label.to(device)\n",
        "\n",
        "            # TODO: Zero the parameter gradients\n",
        "            #\n",
        "            optimizer.zero_grad()\n",
        "\n",
        "            # TODO: forward + backward + optimize\n",
        "\n",
        "            outputs = net(images)\n",
        "            loss = criterion(outputs, labels)\n",
        "            loss.backward()\n",
        "\n",
        "            optimizer.step()\n",
        "            #\n",
        "\n",
        "            # TODO: Get predicted results\n",
        "            predicted = torch.argmax(outputs, axis =1)\n",
        "\n",
        "            # print statistics\n",
        "            print_freq = 100\n",
        "            running_loss += loss.item()\n",
        "\n",
        "            # calc acc\n",
        "            running_total += labels.size(0)\n",
        "            running_correct += (predicted == labels).sum().item()\n",
        "\n",
        "            if i % print_freq == (print_freq - 1):    # print every 2000 mini-batches\n",
        "                print(f'[{epoch + 1}, {i + 1:5d}] loss: {running_loss / print_freq:.3f} acc: {100*running_correct / running_total:.2f} time: {time.time() - start_time:.2f}')\n",
        "                running_loss, running_correct, running_total = 0.0, 0.0, 0.0\n",
        "                start_time = time.time()\n",
        "\n",
        "        # TODO: Run the run_test() function after each epoch; Set the model to the evaluation mode.\n",
        "        net.eval()\n",
        "        run_test(net, testloader, criterion, task)\n",
        "\n",
        "    print('Finished Training')"
      ]
    },
    {
      "cell_type": "code",
      "execution_count": null,
      "metadata": {
        "colab": {
          "base_uri": "https://localhost:8080/"
        },
        "id": "2u4AsfAKtaQS",
        "outputId": "564d7e2f-937e-4f2c-a0c4-ed29a9b2de49"
      },
      "outputs": [
        {
          "output_type": "stream",
          "name": "stdout",
          "text": [
            "[1,   100] loss: 1.277 acc: 42.62 time: 19.18\n",
            "[1,   200] loss: 1.136 acc: 49.64 time: 10.06\n",
            "[1,   300] loss: 1.105 acc: 52.20 time: 8.28\n",
            "TESTING:\n",
            "Accuracy of the network on the 10000 test images: 55.77 %\n",
            "Average loss on the 10000 test images: 1.031\n",
            "[2,   100] loss: 1.054 acc: 54.88 time: 9.54\n",
            "[2,   200] loss: 1.043 acc: 55.61 time: 9.07\n",
            "[2,   300] loss: 1.006 acc: 57.39 time: 7.98\n",
            "TESTING:\n",
            "Accuracy of the network on the 10000 test images: 59.22 %\n",
            "Average loss on the 10000 test images: 0.998\n",
            "[3,   100] loss: 0.981 acc: 59.04 time: 9.75\n",
            "[3,   200] loss: 0.969 acc: 59.45 time: 7.78\n",
            "[3,   300] loss: 0.946 acc: 60.30 time: 9.36\n",
            "TESTING:\n",
            "Accuracy of the network on the 10000 test images: 61.00 %\n",
            "Average loss on the 10000 test images: 0.972\n",
            "[4,   100] loss: 0.929 acc: 60.91 time: 7.96\n",
            "[4,   200] loss: 0.926 acc: 61.64 time: 9.38\n",
            "[4,   300] loss: 0.907 acc: 62.44 time: 9.40\n",
            "TESTING:\n",
            "Accuracy of the network on the 10000 test images: 62.89 %\n",
            "Average loss on the 10000 test images: 0.886\n",
            "[5,   100] loss: 0.887 acc: 63.06 time: 10.48\n",
            "[5,   200] loss: 0.887 acc: 62.96 time: 9.53\n",
            "[5,   300] loss: 0.868 acc: 64.32 time: 8.37\n",
            "TESTING:\n",
            "Accuracy of the network on the 10000 test images: 64.92 %\n",
            "Average loss on the 10000 test images: 0.858\n",
            "[6,   100] loss: 0.851 acc: 65.19 time: 9.60\n",
            "[6,   200] loss: 0.847 acc: 65.35 time: 9.06\n",
            "[6,   300] loss: 0.857 acc: 64.59 time: 7.95\n",
            "TESTING:\n",
            "Accuracy of the network on the 10000 test images: 62.90 %\n",
            "Average loss on the 10000 test images: 0.923\n",
            "[7,   100] loss: 0.841 acc: 65.45 time: 9.65\n",
            "[7,   200] loss: 0.820 acc: 66.34 time: 7.74\n",
            "[7,   300] loss: 0.833 acc: 65.64 time: 9.42\n",
            "TESTING:\n",
            "Accuracy of the network on the 10000 test images: 66.00 %\n",
            "Average loss on the 10000 test images: 0.833\n",
            "[8,   100] loss: 0.811 acc: 66.83 time: 8.27\n",
            "[8,   200] loss: 0.810 acc: 66.74 time: 9.10\n",
            "[8,   300] loss: 0.808 acc: 66.83 time: 9.44\n",
            "TESTING:\n",
            "Accuracy of the network on the 10000 test images: 68.33 %\n",
            "Average loss on the 10000 test images: 0.765\n",
            "[9,   100] loss: 0.790 acc: 67.92 time: 8.51\n",
            "[9,   200] loss: 0.781 acc: 68.38 time: 11.06\n",
            "[9,   300] loss: 0.779 acc: 68.67 time: 8.53\n",
            "TESTING:\n",
            "Accuracy of the network on the 10000 test images: 69.08 %\n",
            "Average loss on the 10000 test images: 0.758\n",
            "[10,   100] loss: 0.769 acc: 68.46 time: 9.58\n",
            "[10,   200] loss: 0.762 acc: 68.65 time: 9.43\n",
            "[10,   300] loss: 0.770 acc: 68.39 time: 7.72\n",
            "TESTING:\n",
            "Accuracy of the network on the 10000 test images: 69.32 %\n",
            "Average loss on the 10000 test images: 0.755\n",
            "[11,   100] loss: 0.761 acc: 69.30 time: 9.67\n",
            "[11,   200] loss: 0.744 acc: 70.15 time: 7.78\n",
            "[11,   300] loss: 0.751 acc: 69.71 time: 9.46\n",
            "TESTING:\n",
            "Accuracy of the network on the 10000 test images: 71.56 %\n",
            "Average loss on the 10000 test images: 0.707\n",
            "[12,   100] loss: 0.743 acc: 70.00 time: 8.70\n",
            "[12,   200] loss: 0.733 acc: 70.55 time: 8.60\n",
            "[12,   300] loss: 0.723 acc: 71.05 time: 9.45\n",
            "TESTING:\n",
            "Accuracy of the network on the 10000 test images: 71.74 %\n",
            "Average loss on the 10000 test images: 0.706\n",
            "[13,   100] loss: 0.735 acc: 70.67 time: 7.91\n",
            "[13,   200] loss: 0.723 acc: 71.59 time: 11.30\n",
            "[13,   300] loss: 0.708 acc: 71.67 time: 7.83\n",
            "TESTING:\n",
            "Accuracy of the network on the 10000 test images: 72.06 %\n",
            "Average loss on the 10000 test images: 0.691\n",
            "[14,   100] loss: 0.697 acc: 72.19 time: 9.53\n",
            "[14,   200] loss: 0.705 acc: 72.38 time: 8.28\n",
            "[14,   300] loss: 0.701 acc: 71.64 time: 8.66\n",
            "TESTING:\n",
            "Accuracy of the network on the 10000 test images: 72.91 %\n",
            "Average loss on the 10000 test images: 0.673\n",
            "[15,   100] loss: 0.691 acc: 72.41 time: 9.42\n",
            "[15,   200] loss: 0.687 acc: 72.62 time: 7.95\n",
            "[15,   300] loss: 0.682 acc: 72.96 time: 9.37\n",
            "TESTING:\n",
            "Accuracy of the network on the 10000 test images: 73.45 %\n",
            "Average loss on the 10000 test images: 0.659\n",
            "[16,   100] loss: 0.648 acc: 74.09 time: 7.93\n",
            "[16,   200] loss: 0.625 acc: 75.77 time: 9.46\n",
            "[16,   300] loss: 0.607 acc: 76.44 time: 8.55\n",
            "TESTING:\n",
            "Accuracy of the network on the 10000 test images: 76.59 %\n",
            "Average loss on the 10000 test images: 0.585\n",
            "[17,   100] loss: 0.606 acc: 76.08 time: 9.57\n",
            "[17,   200] loss: 0.603 acc: 76.34 time: 11.19\n",
            "[17,   300] loss: 0.608 acc: 75.77 time: 7.65\n",
            "TESTING:\n",
            "Accuracy of the network on the 10000 test images: 77.36 %\n",
            "Average loss on the 10000 test images: 0.576\n",
            "[18,   100] loss: 0.603 acc: 76.44 time: 9.64\n",
            "[18,   200] loss: 0.595 acc: 76.80 time: 7.62\n",
            "[18,   300] loss: 0.596 acc: 76.86 time: 9.52\n",
            "TESTING:\n",
            "Accuracy of the network on the 10000 test images: 77.71 %\n",
            "Average loss on the 10000 test images: 0.575\n",
            "[19,   100] loss: 0.587 acc: 76.95 time: 8.67\n",
            "[19,   200] loss: 0.587 acc: 77.17 time: 8.65\n",
            "[19,   300] loss: 0.587 acc: 76.90 time: 9.42\n",
            "TESTING:\n",
            "Accuracy of the network on the 10000 test images: 77.88 %\n",
            "Average loss on the 10000 test images: 0.562\n",
            "[20,   100] loss: 0.579 acc: 77.27 time: 7.92\n",
            "[20,   200] loss: 0.580 acc: 77.20 time: 9.36\n",
            "[20,   300] loss: 0.592 acc: 76.78 time: 8.16\n",
            "TESTING:\n",
            "Accuracy of the network on the 10000 test images: 77.96 %\n",
            "Average loss on the 10000 test images: 0.565\n",
            "[21,   100] loss: 0.577 acc: 77.29 time: 9.57\n",
            "[21,   200] loss: 0.581 acc: 77.24 time: 11.11\n",
            "[21,   300] loss: 0.579 acc: 77.25 time: 8.26\n",
            "TESTING:\n",
            "Accuracy of the network on the 10000 test images: 77.77 %\n",
            "Average loss on the 10000 test images: 0.562\n",
            "[22,   100] loss: 0.578 acc: 77.19 time: 9.58\n",
            "[22,   200] loss: 0.562 acc: 77.98 time: 7.61\n",
            "[22,   300] loss: 0.574 acc: 77.56 time: 9.38\n",
            "TESTING:\n",
            "Accuracy of the network on the 10000 test images: 78.12 %\n",
            "Average loss on the 10000 test images: 0.560\n",
            "[23,   100] loss: 0.568 acc: 77.95 time: 8.02\n",
            "[23,   200] loss: 0.578 acc: 77.25 time: 9.36\n",
            "[23,   300] loss: 0.555 acc: 77.92 time: 9.42\n",
            "TESTING:\n",
            "Accuracy of the network on the 10000 test images: 78.27 %\n",
            "Average loss on the 10000 test images: 0.561\n",
            "[24,   100] loss: 0.578 acc: 77.38 time: 8.56\n",
            "[24,   200] loss: 0.560 acc: 78.24 time: 9.46\n",
            "[24,   300] loss: 0.565 acc: 78.09 time: 7.71\n",
            "TESTING:\n",
            "Accuracy of the network on the 10000 test images: 77.75 %\n",
            "Average loss on the 10000 test images: 0.558\n",
            "[25,   100] loss: 0.561 acc: 78.21 time: 9.59\n",
            "[25,   200] loss: 0.559 acc: 78.26 time: 11.05\n",
            "[25,   300] loss: 0.558 acc: 77.94 time: 7.74\n",
            "TESTING:\n",
            "Accuracy of the network on the 10000 test images: 78.71 %\n",
            "Average loss on the 10000 test images: 0.542\n",
            "[26,   100] loss: 0.553 acc: 78.70 time: 9.65\n",
            "[26,   200] loss: 0.556 acc: 78.23 time: 7.83\n",
            "[26,   300] loss: 0.570 acc: 77.73 time: 9.36\n",
            "TESTING:\n",
            "Accuracy of the network on the 10000 test images: 78.65 %\n",
            "Average loss on the 10000 test images: 0.546\n",
            "[27,   100] loss: 0.558 acc: 78.21 time: 8.48\n",
            "[27,   200] loss: 0.561 acc: 78.33 time: 9.02\n",
            "[27,   300] loss: 0.557 acc: 78.07 time: 9.41\n",
            "TESTING:\n",
            "Accuracy of the network on the 10000 test images: 78.12 %\n",
            "Average loss on the 10000 test images: 0.555\n",
            "[28,   100] loss: 0.561 acc: 78.15 time: 8.03\n",
            "[28,   200] loss: 0.553 acc: 78.40 time: 9.23\n",
            "[28,   300] loss: 0.552 acc: 78.84 time: 8.09\n",
            "TESTING:\n",
            "Accuracy of the network on the 10000 test images: 78.38 %\n",
            "Average loss on the 10000 test images: 0.544\n",
            "[29,   100] loss: 0.550 acc: 78.32 time: 9.65\n",
            "[29,   200] loss: 0.548 acc: 78.52 time: 11.27\n",
            "[29,   300] loss: 0.562 acc: 78.18 time: 7.60\n",
            "TESTING:\n",
            "Accuracy of the network on the 10000 test images: 78.72 %\n",
            "Average loss on the 10000 test images: 0.548\n",
            "[30,   100] loss: 0.541 acc: 78.73 time: 9.48\n",
            "[30,   200] loss: 0.558 acc: 78.34 time: 7.68\n",
            "[30,   300] loss: 0.538 acc: 78.95 time: 8.95\n",
            "TESTING:\n",
            "Accuracy of the network on the 10000 test images: 79.22 %\n",
            "Average loss on the 10000 test images: 0.536\n",
            "Finished Training\n"
          ]
        }
      ],
      "source": [
        "train(net, criterion, optimizer, num_epochs=30, decay_epochs=15, init_lr=0.001, task='rotation')\n",
        "\n",
        "# TODO: Save the model\n",
        "torch.save(net.state_dict(), 'Resnet_03_26_15_41.pt')"
      ]
    },
    {
      "cell_type": "code",
      "execution_count": null,
      "metadata": {
        "id": "Fhi6m131p2Q1"
      },
      "outputs": [],
      "source": []
    },
    {
      "cell_type": "markdown",
      "metadata": {
        "id": "PLLMRTS9rTnk"
      },
      "source": [
        "##Fine-tuning on the pre-trained model\n",
        "\n",
        "In this section, we will load the pre-trained ResNet18 model and fine-tune on the classification task. We will freeze all previous layers except for the 'layer4' block and 'fc' layer."
      ]
    },
    {
      "cell_type": "code",
      "execution_count": null,
      "metadata": {
        "id": "S4nX4ExlrymI",
        "colab": {
          "base_uri": "https://localhost:8080/"
        },
        "outputId": "de9e994e-deb1-43b8-d6ba-7bdfe6aeae0b"
      },
      "outputs": [
        {
          "output_type": "execute_result",
          "data": {
            "text/plain": [
              "<All keys matched successfully>"
            ]
          },
          "metadata": {},
          "execution_count": 14
        }
      ],
      "source": [
        "import torch.nn as nn\n",
        "import torch.nn.functional as F\n",
        "\n",
        "from torchvision.models import resnet18\n",
        "\n",
        "# TODO: Load the pre-trained ResNet18 model\n",
        "#\n",
        "net = resnet18(num_classes=4)\n",
        "net.load_state_dict(torch.load('Resnet_03_26_15_41.pt'))"
      ]
    },
    {
      "cell_type": "code",
      "execution_count": null,
      "metadata": {
        "id": "kD44g-TxwYdU"
      },
      "outputs": [],
      "source": [
        "# TODO: Freeze all previous layers; only keep the 'layer4' block and 'fc' layer trainable\n",
        "for param in net.parameters():\n",
        "  param.requires_grad = False\n",
        "\n",
        "for param in net.layer4.parameters():\n",
        "  param.requires_grad = True\n",
        "\n",
        "\n",
        "\n",
        "num_ftrs  = net.fc.in_features\n",
        "net.fc    = nn.Linear(num_ftrs, 10)\n",
        "\n",
        "for param in net.fc.parameters():\n",
        "  param.requires_grad = True\n",
        "\n",
        "net = net.to(device)\n"
      ]
    },
    {
      "cell_type": "code",
      "execution_count": null,
      "metadata": {
        "id": "9T5DX0efr4fh",
        "colab": {
          "base_uri": "https://localhost:8080/"
        },
        "outputId": "9b4a810a-6ea4-4715-c861-747e6d412d44"
      },
      "outputs": [
        {
          "output_type": "stream",
          "name": "stdout",
          "text": [
            "Params to learn:\n",
            "\t layer4.0.conv1.weight\n",
            "\t layer4.0.bn1.weight\n",
            "\t layer4.0.bn1.bias\n",
            "\t layer4.0.conv2.weight\n",
            "\t layer4.0.bn2.weight\n",
            "\t layer4.0.bn2.bias\n",
            "\t layer4.0.downsample.0.weight\n",
            "\t layer4.0.downsample.1.weight\n",
            "\t layer4.0.downsample.1.bias\n",
            "\t layer4.1.conv1.weight\n",
            "\t layer4.1.bn1.weight\n",
            "\t layer4.1.bn1.bias\n",
            "\t layer4.1.conv2.weight\n",
            "\t layer4.1.bn2.weight\n",
            "\t layer4.1.bn2.bias\n",
            "\t fc.weight\n",
            "\t fc.bias\n"
          ]
        }
      ],
      "source": [
        "# Print all the trainable parameters\n",
        "params_to_update = net.parameters()\n",
        "print(\"Params to learn:\")\n",
        "params_to_update = []\n",
        "for name,param in net.named_parameters():\n",
        "    if param.requires_grad == True:\n",
        "        params_to_update.append(param)\n",
        "        print(\"\\t\",name)"
      ]
    },
    {
      "cell_type": "code",
      "execution_count": null,
      "metadata": {
        "id": "xb032dG700ph"
      },
      "outputs": [],
      "source": [
        "# TODO: Define criterion and optimizer\n",
        "# Note that your optimizer only needs to update the parameters that are trainable.\n",
        "criterion = nn.CrossEntropyLoss()\n",
        "optimizer = torch.optim.Adam(net.parameters(), lr = 1e-3)"
      ]
    },
    {
      "cell_type": "code",
      "execution_count": null,
      "metadata": {
        "id": "3vLSwOo6sBjl",
        "colab": {
          "base_uri": "https://localhost:8080/"
        },
        "outputId": "a91f4451-ac10-4f48-d32f-c0cf08848606"
      },
      "outputs": [
        {
          "output_type": "stream",
          "name": "stdout",
          "text": [
            "[1,   100] loss: 1.685 acc: 38.38 time: 8.16\n",
            "[1,   200] loss: 1.396 acc: 48.73 time: 7.14\n",
            "[1,   300] loss: 1.315 acc: 51.46 time: 8.17\n",
            "TESTING:\n",
            "Accuracy of the network on the 10000 test images: 54.75 %\n",
            "Average loss on the 10000 test images: 1.267\n",
            "[2,   100] loss: 1.253 acc: 54.53 time: 7.43\n",
            "[2,   200] loss: 1.241 acc: 55.20 time: 8.24\n",
            "[2,   300] loss: 1.230 acc: 55.09 time: 6.83\n",
            "TESTING:\n",
            "Accuracy of the network on the 10000 test images: 57.82 %\n",
            "Average loss on the 10000 test images: 1.179\n",
            "[3,   100] loss: 1.188 acc: 56.77 time: 8.39\n",
            "[3,   200] loss: 1.167 acc: 58.12 time: 7.04\n",
            "[3,   300] loss: 1.165 acc: 57.93 time: 9.68\n",
            "TESTING:\n",
            "Accuracy of the network on the 10000 test images: 59.66 %\n",
            "Average loss on the 10000 test images: 1.139\n",
            "[4,   100] loss: 1.146 acc: 58.86 time: 7.00\n",
            "[4,   200] loss: 1.136 acc: 59.25 time: 8.35\n",
            "[4,   300] loss: 1.135 acc: 59.03 time: 6.78\n",
            "TESTING:\n",
            "Accuracy of the network on the 10000 test images: 60.14 %\n",
            "Average loss on the 10000 test images: 1.118\n",
            "[5,   100] loss: 1.112 acc: 59.77 time: 8.47\n",
            "[5,   200] loss: 1.129 acc: 59.48 time: 6.85\n",
            "[5,   300] loss: 1.119 acc: 59.44 time: 8.32\n",
            "TESTING:\n",
            "Accuracy of the network on the 10000 test images: 60.46 %\n",
            "Average loss on the 10000 test images: 1.098\n",
            "[6,   100] loss: 1.086 acc: 60.86 time: 7.11\n",
            "[6,   200] loss: 1.107 acc: 60.38 time: 8.19\n",
            "[6,   300] loss: 1.089 acc: 60.80 time: 8.38\n",
            "TESTING:\n",
            "Accuracy of the network on the 10000 test images: 62.81 %\n",
            "Average loss on the 10000 test images: 1.043\n",
            "[7,   100] loss: 1.073 acc: 60.82 time: 8.51\n",
            "[7,   200] loss: 1.067 acc: 61.36 time: 8.02\n",
            "[7,   300] loss: 1.077 acc: 61.23 time: 7.05\n",
            "TESTING:\n",
            "Accuracy of the network on the 10000 test images: 63.18 %\n",
            "Average loss on the 10000 test images: 1.034\n",
            "[8,   100] loss: 1.074 acc: 61.00 time: 9.81\n",
            "[8,   200] loss: 1.059 acc: 61.73 time: 6.81\n",
            "[8,   300] loss: 1.073 acc: 61.52 time: 8.31\n",
            "TESTING:\n",
            "Accuracy of the network on the 10000 test images: 63.10 %\n",
            "Average loss on the 10000 test images: 1.028\n",
            "[9,   100] loss: 1.046 acc: 62.26 time: 6.93\n",
            "[9,   200] loss: 1.052 acc: 62.44 time: 8.26\n",
            "[9,   300] loss: 1.027 acc: 63.05 time: 7.43\n",
            "TESTING:\n",
            "Accuracy of the network on the 10000 test images: 64.36 %\n",
            "Average loss on the 10000 test images: 1.009\n",
            "[10,   100] loss: 1.009 acc: 63.75 time: 8.37\n",
            "[10,   200] loss: 1.040 acc: 62.34 time: 7.17\n",
            "[10,   300] loss: 1.032 acc: 62.84 time: 7.98\n",
            "TESTING:\n",
            "Accuracy of the network on the 10000 test images: 63.39 %\n",
            "Average loss on the 10000 test images: 1.037\n",
            "[11,   100] loss: 0.997 acc: 64.05 time: 7.63\n",
            "[11,   200] loss: 0.980 acc: 65.08 time: 7.71\n",
            "[11,   300] loss: 0.967 acc: 65.01 time: 8.20\n",
            "TESTING:\n",
            "Accuracy of the network on the 10000 test images: 65.41 %\n",
            "Average loss on the 10000 test images: 0.967\n",
            "[12,   100] loss: 0.944 acc: 66.24 time: 8.03\n",
            "[12,   200] loss: 0.966 acc: 64.73 time: 8.60\n",
            "[12,   300] loss: 0.963 acc: 65.67 time: 8.02\n",
            "TESTING:\n",
            "Accuracy of the network on the 10000 test images: 65.97 %\n",
            "Average loss on the 10000 test images: 0.962\n",
            "[13,   100] loss: 0.944 acc: 66.59 time: 8.35\n",
            "[13,   200] loss: 0.949 acc: 66.43 time: 6.74\n",
            "[13,   300] loss: 0.953 acc: 65.43 time: 8.20\n",
            "TESTING:\n",
            "Accuracy of the network on the 10000 test images: 65.67 %\n",
            "Average loss on the 10000 test images: 0.963\n",
            "[14,   100] loss: 0.941 acc: 66.38 time: 6.95\n",
            "[14,   200] loss: 0.953 acc: 65.66 time: 8.32\n",
            "[14,   300] loss: 0.945 acc: 66.00 time: 7.61\n",
            "TESTING:\n",
            "Accuracy of the network on the 10000 test images: 65.30 %\n",
            "Average loss on the 10000 test images: 0.963\n",
            "[15,   100] loss: 0.938 acc: 66.71 time: 8.51\n",
            "[15,   200] loss: 0.927 acc: 66.70 time: 7.57\n",
            "[15,   300] loss: 0.943 acc: 66.05 time: 7.63\n",
            "TESTING:\n",
            "Accuracy of the network on the 10000 test images: 65.69 %\n",
            "Average loss on the 10000 test images: 0.958\n",
            "[16,   100] loss: 0.929 acc: 66.73 time: 7.78\n",
            "[16,   200] loss: 0.941 acc: 66.09 time: 7.39\n",
            "[16,   300] loss: 0.930 acc: 66.55 time: 8.14\n",
            "TESTING:\n",
            "Accuracy of the network on the 10000 test images: 66.35 %\n",
            "Average loss on the 10000 test images: 0.957\n",
            "[17,   100] loss: 0.919 acc: 67.04 time: 7.59\n",
            "[17,   200] loss: 0.946 acc: 66.00 time: 8.02\n",
            "[17,   300] loss: 0.930 acc: 66.25 time: 6.83\n",
            "TESTING:\n",
            "Accuracy of the network on the 10000 test images: 65.94 %\n",
            "Average loss on the 10000 test images: 0.956\n",
            "[18,   100] loss: 0.927 acc: 66.74 time: 8.46\n",
            "[18,   200] loss: 0.930 acc: 66.89 time: 6.86\n",
            "[18,   300] loss: 0.934 acc: 66.23 time: 8.13\n",
            "TESTING:\n",
            "Accuracy of the network on the 10000 test images: 66.00 %\n",
            "Average loss on the 10000 test images: 0.957\n",
            "[19,   100] loss: 0.936 acc: 66.16 time: 7.00\n",
            "[19,   200] loss: 0.931 acc: 66.19 time: 8.40\n",
            "[19,   300] loss: 0.930 acc: 66.63 time: 6.75\n",
            "TESTING:\n",
            "Accuracy of the network on the 10000 test images: 66.41 %\n",
            "Average loss on the 10000 test images: 0.950\n",
            "[20,   100] loss: 0.915 acc: 67.30 time: 8.38\n",
            "[20,   200] loss: 0.928 acc: 66.71 time: 6.89\n",
            "[20,   300] loss: 0.928 acc: 67.21 time: 8.16\n",
            "TESTING:\n",
            "Accuracy of the network on the 10000 test images: 66.29 %\n",
            "Average loss on the 10000 test images: 0.950\n",
            "Finished Training\n"
          ]
        }
      ],
      "source": [
        "train(net, criterion, optimizer, num_epochs=20, decay_epochs=10, init_lr=0.001, task='classification')\n"
      ]
    },
    {
      "cell_type": "markdown",
      "metadata": {
        "id": "ghPNhcJBrcNj"
      },
      "source": [
        "## Fine-tuning on the randomly initialized model\n",
        "In this section, we will randomly initialize a ResNet18 model and fine-tune on the classification task. We will freeze all previous layers except for the 'layer4' block and 'fc' layer."
      ]
    },
    {
      "cell_type": "code",
      "execution_count": null,
      "metadata": {
        "id": "2RfXAh9vxXRB"
      },
      "outputs": [],
      "source": [
        "import torch.nn as nn\n",
        "import torch.nn.functional as F\n",
        "\n",
        "from torchvision.models import resnet18\n",
        "\n",
        "# TODO: Randomly initialize a ResNet18 model\n",
        "#\n",
        "net = resnet18(num_classes  = 10)\n",
        "for param in net.parameters():\n",
        "  param= torch.rand(size = param.size())"
      ]
    },
    {
      "cell_type": "code",
      "execution_count": null,
      "metadata": {
        "id": "fpx-SYAizt4p"
      },
      "outputs": [],
      "source": [
        "# TODO: Freeze all previous layers; only keep the 'layer4' block and 'fc' layer trainable\n",
        "# To do this, you should set requires_grad=False for the frozen layers.\n",
        "#\n",
        "for param in net.parameters():\n",
        "  param.requires_grad = False\n",
        "\n",
        "for param in net.layer4.parameters():\n",
        "  param.requires_grad = True\n",
        "\n",
        "for param in net.fc.parameters():\n",
        "  param.requires_grad = True\n",
        "\n",
        "net = net.to(device)"
      ]
    },
    {
      "cell_type": "code",
      "execution_count": null,
      "metadata": {
        "id": "BUFWizbHxgm2",
        "colab": {
          "base_uri": "https://localhost:8080/"
        },
        "outputId": "6431cd65-7c57-45d7-d3b6-912961439899"
      },
      "outputs": [
        {
          "output_type": "stream",
          "name": "stdout",
          "text": [
            "Params to learn:\n",
            "\t layer4.0.conv1.weight\n",
            "\t layer4.0.bn1.weight\n",
            "\t layer4.0.bn1.bias\n",
            "\t layer4.0.conv2.weight\n",
            "\t layer4.0.bn2.weight\n",
            "\t layer4.0.bn2.bias\n",
            "\t layer4.0.downsample.0.weight\n",
            "\t layer4.0.downsample.1.weight\n",
            "\t layer4.0.downsample.1.bias\n",
            "\t layer4.1.conv1.weight\n",
            "\t layer4.1.bn1.weight\n",
            "\t layer4.1.bn1.bias\n",
            "\t layer4.1.conv2.weight\n",
            "\t layer4.1.bn2.weight\n",
            "\t layer4.1.bn2.bias\n",
            "\t fc.weight\n",
            "\t fc.bias\n"
          ]
        }
      ],
      "source": [
        "# Print all the trainable parameters\n",
        "params_to_update = net.parameters()\n",
        "print(\"Params to learn:\")\n",
        "params_to_update = []\n",
        "for name,param in net.named_parameters():\n",
        "    if param.requires_grad == True:\n",
        "        params_to_update.append(param)\n",
        "        print(\"\\t\",name)"
      ]
    },
    {
      "cell_type": "code",
      "execution_count": null,
      "metadata": {
        "id": "BxFrGj091AN_"
      },
      "outputs": [],
      "source": [
        "# TODO: Define criterion and optimizer\n",
        "# Note that your optimizer only needs to update the parameters that are trainable.\n",
        "criterion = nn.CrossEntropyLoss()\n",
        "optimizer = torch.optim.Adam(lr = 1e-3, params= net.parameters())"
      ]
    },
    {
      "cell_type": "code",
      "execution_count": null,
      "metadata": {
        "id": "GzRVy0MZxpoL",
        "colab": {
          "base_uri": "https://localhost:8080/"
        },
        "outputId": "6daeb459-7850-44cb-fab1-15609373e7d2"
      },
      "outputs": [
        {
          "output_type": "stream",
          "name": "stdout",
          "text": [
            "[1,   100] loss: 2.037 acc: 27.02 time: 14.79\n",
            "[1,   200] loss: 1.882 acc: 31.62 time: 8.81\n",
            "[1,   300] loss: 1.863 acc: 32.56 time: 6.90\n",
            "TESTING:\n",
            "Accuracy of the network on the 10000 test images: 37.44 %\n",
            "Average loss on the 10000 test images: 1.735\n",
            "[2,   100] loss: 1.802 acc: 35.16 time: 8.66\n",
            "[2,   200] loss: 1.776 acc: 35.98 time: 9.05\n",
            "[2,   300] loss: 1.772 acc: 35.91 time: 8.91\n",
            "TESTING:\n",
            "Accuracy of the network on the 10000 test images: 39.38 %\n",
            "Average loss on the 10000 test images: 1.672\n",
            "[3,   100] loss: 1.732 acc: 37.80 time: 7.37\n",
            "[3,   200] loss: 1.731 acc: 37.75 time: 8.92\n",
            "[3,   300] loss: 1.723 acc: 37.73 time: 7.18\n",
            "TESTING:\n",
            "Accuracy of the network on the 10000 test images: 40.94 %\n",
            "Average loss on the 10000 test images: 1.658\n",
            "[4,   100] loss: 1.711 acc: 38.41 time: 9.00\n",
            "[4,   200] loss: 1.701 acc: 39.05 time: 7.08\n",
            "[4,   300] loss: 1.693 acc: 39.11 time: 9.06\n",
            "TESTING:\n",
            "Accuracy of the network on the 10000 test images: 41.80 %\n",
            "Average loss on the 10000 test images: 1.617\n",
            "[5,   100] loss: 1.678 acc: 39.47 time: 7.49\n",
            "[5,   200] loss: 1.683 acc: 39.67 time: 8.84\n",
            "[5,   300] loss: 1.679 acc: 39.32 time: 8.27\n",
            "TESTING:\n",
            "Accuracy of the network on the 10000 test images: 42.42 %\n",
            "Average loss on the 10000 test images: 1.609\n",
            "[6,   100] loss: 1.633 acc: 41.78 time: 9.07\n",
            "[6,   200] loss: 1.631 acc: 41.35 time: 9.04\n",
            "[6,   300] loss: 1.614 acc: 42.25 time: 8.95\n",
            "TESTING:\n",
            "Accuracy of the network on the 10000 test images: 44.50 %\n",
            "Average loss on the 10000 test images: 1.557\n",
            "[7,   100] loss: 1.600 acc: 42.82 time: 7.45\n",
            "[7,   200] loss: 1.611 acc: 41.73 time: 8.84\n",
            "[7,   300] loss: 1.617 acc: 42.19 time: 8.40\n",
            "TESTING:\n",
            "Accuracy of the network on the 10000 test images: 44.73 %\n",
            "Average loss on the 10000 test images: 1.550\n",
            "[8,   100] loss: 1.590 acc: 42.96 time: 9.11\n",
            "[8,   200] loss: 1.589 acc: 42.70 time: 8.34\n",
            "[8,   300] loss: 1.587 acc: 43.41 time: 7.62\n",
            "TESTING:\n",
            "Accuracy of the network on the 10000 test images: 44.48 %\n",
            "Average loss on the 10000 test images: 1.547\n",
            "[9,   100] loss: 1.587 acc: 43.17 time: 8.29\n",
            "[9,   200] loss: 1.595 acc: 42.34 time: 7.90\n",
            "[9,   300] loss: 1.583 acc: 43.09 time: 8.88\n",
            "TESTING:\n",
            "Accuracy of the network on the 10000 test images: 44.94 %\n",
            "Average loss on the 10000 test images: 1.542\n",
            "[10,   100] loss: 1.583 acc: 42.91 time: 8.01\n",
            "[10,   200] loss: 1.582 acc: 43.26 time: 8.67\n",
            "[10,   300] loss: 1.561 acc: 44.27 time: 8.92\n",
            "TESTING:\n",
            "Accuracy of the network on the 10000 test images: 45.15 %\n",
            "Average loss on the 10000 test images: 1.535\n",
            "[11,   100] loss: 1.571 acc: 43.32 time: 8.99\n",
            "[11,   200] loss: 1.572 acc: 43.86 time: 6.97\n",
            "[11,   300] loss: 1.580 acc: 43.43 time: 8.76\n",
            "TESTING:\n",
            "Accuracy of the network on the 10000 test images: 45.40 %\n",
            "Average loss on the 10000 test images: 1.529\n",
            "[12,   100] loss: 1.566 acc: 44.25 time: 7.11\n",
            "[12,   200] loss: 1.569 acc: 43.50 time: 8.80\n",
            "[12,   300] loss: 1.564 acc: 43.90 time: 6.96\n",
            "TESTING:\n",
            "Accuracy of the network on the 10000 test images: 45.34 %\n",
            "Average loss on the 10000 test images: 1.530\n",
            "[13,   100] loss: 1.568 acc: 44.17 time: 9.00\n",
            "[13,   200] loss: 1.568 acc: 43.84 time: 6.98\n",
            "[13,   300] loss: 1.576 acc: 43.67 time: 8.70\n",
            "TESTING:\n",
            "Accuracy of the network on the 10000 test images: 45.23 %\n",
            "Average loss on the 10000 test images: 1.529\n",
            "[14,   100] loss: 1.564 acc: 43.70 time: 7.13\n",
            "[14,   200] loss: 1.566 acc: 44.14 time: 8.86\n",
            "[14,   300] loss: 1.565 acc: 43.95 time: 7.65\n",
            "TESTING:\n",
            "Accuracy of the network on the 10000 test images: 45.37 %\n",
            "Average loss on the 10000 test images: 1.529\n",
            "[15,   100] loss: 1.570 acc: 44.20 time: 8.85\n",
            "[15,   200] loss: 1.570 acc: 43.40 time: 7.02\n",
            "[15,   300] loss: 1.559 acc: 44.12 time: 8.90\n",
            "TESTING:\n",
            "Accuracy of the network on the 10000 test images: 45.51 %\n",
            "Average loss on the 10000 test images: 1.527\n",
            "[16,   100] loss: 1.564 acc: 44.01 time: 7.23\n",
            "[16,   200] loss: 1.575 acc: 43.28 time: 8.72\n",
            "[16,   300] loss: 1.583 acc: 43.62 time: 6.96\n",
            "TESTING:\n",
            "Accuracy of the network on the 10000 test images: 45.54 %\n",
            "Average loss on the 10000 test images: 1.527\n",
            "[17,   100] loss: 1.572 acc: 43.40 time: 8.92\n",
            "[17,   200] loss: 1.564 acc: 44.38 time: 6.99\n",
            "[17,   300] loss: 1.556 acc: 44.35 time: 8.70\n",
            "TESTING:\n",
            "Accuracy of the network on the 10000 test images: 45.50 %\n",
            "Average loss on the 10000 test images: 1.529\n",
            "[18,   100] loss: 1.561 acc: 44.22 time: 7.16\n",
            "[18,   200] loss: 1.576 acc: 43.45 time: 8.61\n",
            "[18,   300] loss: 1.569 acc: 43.36 time: 6.88\n",
            "TESTING:\n",
            "Accuracy of the network on the 10000 test images: 45.46 %\n",
            "Average loss on the 10000 test images: 1.525\n",
            "[19,   100] loss: 1.550 acc: 44.45 time: 8.90\n",
            "[19,   200] loss: 1.556 acc: 43.49 time: 7.72\n",
            "[19,   300] loss: 1.581 acc: 43.34 time: 7.89\n",
            "TESTING:\n",
            "Accuracy of the network on the 10000 test images: 45.31 %\n",
            "Average loss on the 10000 test images: 1.527\n",
            "[20,   100] loss: 1.573 acc: 43.84 time: 7.71\n",
            "[20,   200] loss: 1.574 acc: 43.20 time: 8.03\n",
            "[20,   300] loss: 1.553 acc: 45.30 time: 8.57\n",
            "TESTING:\n",
            "Accuracy of the network on the 10000 test images: 45.31 %\n",
            "Average loss on the 10000 test images: 1.527\n",
            "[21,   100] loss: 1.565 acc: 43.77 time: 8.67\n",
            "[21,   200] loss: 1.542 acc: 44.40 time: 8.20\n",
            "[21,   300] loss: 1.566 acc: 43.80 time: 7.50\n",
            "TESTING:\n",
            "Accuracy of the network on the 10000 test images: 45.46 %\n",
            "Average loss on the 10000 test images: 1.528\n",
            "[22,   100] loss: 1.563 acc: 44.71 time: 8.17\n",
            "[22,   200] loss: 1.580 acc: 43.31 time: 8.06\n",
            "[22,   300] loss: 1.561 acc: 44.08 time: 8.57\n",
            "TESTING:\n",
            "Accuracy of the network on the 10000 test images: 45.50 %\n",
            "Average loss on the 10000 test images: 1.524\n",
            "[23,   100] loss: 1.554 acc: 44.22 time: 9.01\n",
            "[23,   200] loss: 1.556 acc: 44.13 time: 8.18\n",
            "[23,   300] loss: 1.582 acc: 43.12 time: 7.27\n",
            "TESTING:\n",
            "Accuracy of the network on the 10000 test images: 45.64 %\n",
            "Average loss on the 10000 test images: 1.525\n",
            "[24,   100] loss: 1.560 acc: 44.27 time: 8.06\n",
            "[24,   200] loss: 1.574 acc: 43.86 time: 7.89\n",
            "[24,   300] loss: 1.568 acc: 43.90 time: 8.71\n",
            "TESTING:\n",
            "Accuracy of the network on the 10000 test images: 45.62 %\n",
            "Average loss on the 10000 test images: 1.524\n",
            "[25,   100] loss: 1.569 acc: 43.55 time: 8.23\n",
            "[25,   200] loss: 1.564 acc: 44.55 time: 8.58\n",
            "[25,   300] loss: 1.567 acc: 43.77 time: 7.10\n",
            "TESTING:\n",
            "Accuracy of the network on the 10000 test images: 45.76 %\n",
            "Average loss on the 10000 test images: 1.524\n",
            "[26,   100] loss: 1.575 acc: 43.59 time: 8.74\n",
            "[26,   200] loss: 1.565 acc: 44.13 time: 7.13\n",
            "[26,   300] loss: 1.564 acc: 44.25 time: 8.63\n",
            "TESTING:\n",
            "Accuracy of the network on the 10000 test images: 45.51 %\n",
            "Average loss on the 10000 test images: 1.525\n",
            "[27,   100] loss: 1.570 acc: 44.10 time: 9.69\n",
            "[27,   200] loss: 1.562 acc: 43.83 time: 8.82\n",
            "[27,   300] loss: 1.572 acc: 43.52 time: 6.92\n",
            "TESTING:\n",
            "Accuracy of the network on the 10000 test images: 45.75 %\n",
            "Average loss on the 10000 test images: 1.524\n",
            "[28,   100] loss: 1.563 acc: 43.71 time: 8.79\n",
            "[28,   200] loss: 1.569 acc: 43.52 time: 6.99\n",
            "[28,   300] loss: 1.562 acc: 44.90 time: 8.59\n",
            "TESTING:\n",
            "Accuracy of the network on the 10000 test images: 45.53 %\n",
            "Average loss on the 10000 test images: 1.527\n",
            "[29,   100] loss: 1.575 acc: 43.59 time: 7.15\n",
            "[29,   200] loss: 1.567 acc: 44.27 time: 8.67\n",
            "[29,   300] loss: 1.561 acc: 44.26 time: 6.95\n",
            "TESTING:\n",
            "Accuracy of the network on the 10000 test images: 45.61 %\n",
            "Average loss on the 10000 test images: 1.525\n",
            "[30,   100] loss: 1.574 acc: 43.45 time: 8.80\n",
            "[30,   200] loss: 1.565 acc: 43.60 time: 7.04\n",
            "[30,   300] loss: 1.568 acc: 43.89 time: 8.71\n",
            "TESTING:\n",
            "Accuracy of the network on the 10000 test images: 45.32 %\n",
            "Average loss on the 10000 test images: 1.527\n",
            "Finished Training\n"
          ]
        }
      ],
      "source": [
        "train(net, criterion, optimizer, num_epochs=30, decay_epochs=5, init_lr=0.001, task='classification')"
      ]
    },
    {
      "cell_type": "markdown",
      "metadata": {
        "id": "WcN54tcNN15U"
      },
      "source": [
        "##Supervised training on the pre-trained model\n",
        "In this section, we will load the pre-trained ResNet18 model and re-train the whole model on the classification task."
      ]
    },
    {
      "cell_type": "code",
      "execution_count": null,
      "metadata": {
        "id": "9xR9h_S1N6Xi"
      },
      "outputs": [],
      "source": [
        "from prompt_toolkit.filters import in_editing_mode\n",
        "import torch.nn as nn\n",
        "import torch.nn.functional as F\n",
        "\n",
        "from torchvision.models import resnet18\n",
        "\n",
        "# TODO: Load the pre-trained ResNet18 model\n",
        "#\n",
        "net = resnet18(num_classes = 4)\n",
        "net.load_state_dict(torch.load('Resnet_03_26_15_41.pt'))\n",
        "\n",
        "in_features = net.fc.in_features\n",
        "net.fc = nn.Linear(in_features, 10)\n",
        "net = net.to(device)"
      ]
    },
    {
      "cell_type": "code",
      "execution_count": null,
      "metadata": {
        "id": "gGozc2cM0ADw"
      },
      "outputs": [],
      "source": [
        "# TODO: Define criterion and optimizer\n",
        "criterion = nn.CrossEntropyLoss()\n",
        "optimizer = torch.optim.Adam(lr = 1e-3, params= net.parameters())"
      ]
    },
    {
      "cell_type": "code",
      "execution_count": null,
      "metadata": {
        "id": "JGWW7gzCz_Bu",
        "colab": {
          "base_uri": "https://localhost:8080/"
        },
        "outputId": "41ead02b-336c-458f-a434-c8f0fcc14182"
      },
      "outputs": [
        {
          "output_type": "stream",
          "name": "stdout",
          "text": [
            "[1,   100] loss: 1.413 acc: 48.24 time: 12.05\n",
            "[1,   200] loss: 1.307 acc: 51.89 time: 7.99\n",
            "[1,   300] loss: 1.273 acc: 53.47 time: 9.42\n",
            "TESTING:\n",
            "Accuracy of the network on the 10000 test images: 57.64 %\n",
            "Average loss on the 10000 test images: 1.158\n",
            "[2,   100] loss: 1.186 acc: 56.77 time: 9.76\n",
            "[2,   200] loss: 1.177 acc: 57.00 time: 8.67\n",
            "[2,   300] loss: 1.124 acc: 59.46 time: 9.49\n",
            "TESTING:\n",
            "Accuracy of the network on the 10000 test images: 61.34 %\n",
            "Average loss on the 10000 test images: 1.064\n",
            "[3,   100] loss: 1.060 acc: 61.84 time: 8.06\n",
            "[3,   200] loss: 1.037 acc: 62.94 time: 9.38\n",
            "[3,   300] loss: 1.012 acc: 63.63 time: 8.89\n",
            "TESTING:\n",
            "Accuracy of the network on the 10000 test images: 65.06 %\n",
            "Average loss on the 10000 test images: 0.987\n",
            "[4,   100] loss: 0.959 acc: 65.78 time: 10.82\n",
            "[4,   200] loss: 0.930 acc: 67.19 time: 9.45\n",
            "[4,   300] loss: 0.944 acc: 66.37 time: 7.82\n",
            "TESTING:\n",
            "Accuracy of the network on the 10000 test images: 68.65 %\n",
            "Average loss on the 10000 test images: 0.877\n",
            "[5,   100] loss: 0.886 acc: 68.35 time: 9.66\n",
            "[5,   200] loss: 0.862 acc: 69.03 time: 9.32\n",
            "[5,   300] loss: 0.874 acc: 68.72 time: 8.23\n",
            "TESTING:\n",
            "Accuracy of the network on the 10000 test images: 70.72 %\n",
            "Average loss on the 10000 test images: 0.836\n",
            "[6,   100] loss: 0.827 acc: 70.80 time: 9.72\n",
            "[6,   200] loss: 0.826 acc: 70.63 time: 8.14\n",
            "[6,   300] loss: 0.799 acc: 71.65 time: 9.45\n",
            "TESTING:\n",
            "Accuracy of the network on the 10000 test images: 72.01 %\n",
            "Average loss on the 10000 test images: 0.799\n",
            "[7,   100] loss: 0.788 acc: 72.09 time: 9.51\n",
            "[7,   200] loss: 0.777 acc: 72.48 time: 8.05\n",
            "[7,   300] loss: 0.773 acc: 72.50 time: 9.73\n",
            "TESTING:\n",
            "Accuracy of the network on the 10000 test images: 73.98 %\n",
            "Average loss on the 10000 test images: 0.741\n",
            "[8,   100] loss: 0.736 acc: 74.16 time: 10.03\n",
            "[8,   200] loss: 0.745 acc: 73.61 time: 8.80\n",
            "[8,   300] loss: 0.733 acc: 74.05 time: 10.71\n",
            "TESTING:\n",
            "Accuracy of the network on the 10000 test images: 73.58 %\n",
            "Average loss on the 10000 test images: 0.759\n",
            "[9,   100] loss: 0.708 acc: 75.10 time: 9.39\n",
            "[9,   200] loss: 0.709 acc: 74.95 time: 8.28\n",
            "[9,   300] loss: 0.697 acc: 75.47 time: 9.72\n",
            "TESTING:\n",
            "Accuracy of the network on the 10000 test images: 75.55 %\n",
            "Average loss on the 10000 test images: 0.718\n",
            "[10,   100] loss: 0.678 acc: 76.20 time: 8.25\n",
            "[10,   200] loss: 0.680 acc: 75.86 time: 9.51\n",
            "[10,   300] loss: 0.664 acc: 76.58 time: 9.51\n",
            "TESTING:\n",
            "Accuracy of the network on the 10000 test images: 76.15 %\n",
            "Average loss on the 10000 test images: 0.686\n",
            "[11,   100] loss: 0.615 acc: 78.23 time: 8.82\n",
            "[11,   200] loss: 0.618 acc: 78.32 time: 12.50\n",
            "[11,   300] loss: 0.605 acc: 78.72 time: 7.74\n",
            "TESTING:\n",
            "Accuracy of the network on the 10000 test images: 78.15 %\n",
            "Average loss on the 10000 test images: 0.633\n",
            "[12,   100] loss: 0.600 acc: 79.01 time: 9.60\n",
            "[12,   200] loss: 0.579 acc: 79.84 time: 10.06\n",
            "[12,   300] loss: 0.571 acc: 79.87 time: 8.06\n",
            "TESTING:\n",
            "Accuracy of the network on the 10000 test images: 78.24 %\n",
            "Average loss on the 10000 test images: 0.633\n",
            "[13,   100] loss: 0.572 acc: 80.02 time: 9.54\n",
            "[13,   200] loss: 0.575 acc: 79.79 time: 8.19\n",
            "[13,   300] loss: 0.576 acc: 79.37 time: 10.17\n",
            "TESTING:\n",
            "Accuracy of the network on the 10000 test images: 78.15 %\n",
            "Average loss on the 10000 test images: 0.628\n",
            "[14,   100] loss: 0.574 acc: 79.86 time: 9.60\n",
            "[14,   200] loss: 0.577 acc: 79.49 time: 7.82\n",
            "[14,   300] loss: 0.570 acc: 79.70 time: 9.92\n",
            "TESTING:\n",
            "Accuracy of the network on the 10000 test images: 78.43 %\n",
            "Average loss on the 10000 test images: 0.625\n",
            "[15,   100] loss: 0.570 acc: 79.92 time: 8.87\n",
            "[15,   200] loss: 0.575 acc: 79.42 time: 8.48\n",
            "[15,   300] loss: 0.563 acc: 80.28 time: 9.43\n",
            "TESTING:\n",
            "Accuracy of the network on the 10000 test images: 78.49 %\n",
            "Average loss on the 10000 test images: 0.622\n",
            "[16,   100] loss: 0.552 acc: 80.72 time: 8.52\n",
            "[16,   200] loss: 0.567 acc: 79.69 time: 9.36\n",
            "[16,   300] loss: 0.556 acc: 80.27 time: 9.84\n",
            "TESTING:\n",
            "Accuracy of the network on the 10000 test images: 78.50 %\n",
            "Average loss on the 10000 test images: 0.617\n",
            "[17,   100] loss: 0.551 acc: 80.15 time: 8.78\n",
            "[17,   200] loss: 0.556 acc: 80.64 time: 9.51\n",
            "[17,   300] loss: 0.558 acc: 80.05 time: 8.15\n",
            "TESTING:\n",
            "Accuracy of the network on the 10000 test images: 78.49 %\n",
            "Average loss on the 10000 test images: 0.617\n",
            "[18,   100] loss: 0.563 acc: 80.39 time: 9.81\n",
            "[18,   200] loss: 0.541 acc: 80.94 time: 9.76\n",
            "[18,   300] loss: 0.546 acc: 80.61 time: 9.69\n",
            "TESTING:\n",
            "Accuracy of the network on the 10000 test images: 78.51 %\n",
            "Average loss on the 10000 test images: 0.614\n",
            "[19,   100] loss: 0.544 acc: 80.63 time: 9.70\n",
            "[19,   200] loss: 0.534 acc: 81.20 time: 9.79\n",
            "[19,   300] loss: 0.556 acc: 80.47 time: 7.78\n",
            "TESTING:\n",
            "Accuracy of the network on the 10000 test images: 78.68 %\n",
            "Average loss on the 10000 test images: 0.612\n",
            "[20,   100] loss: 0.544 acc: 80.74 time: 9.47\n",
            "[20,   200] loss: 0.550 acc: 80.73 time: 9.46\n",
            "[20,   300] loss: 0.532 acc: 81.28 time: 8.28\n",
            "TESTING:\n",
            "Accuracy of the network on the 10000 test images: 78.75 %\n",
            "Average loss on the 10000 test images: 0.611\n",
            "Finished Training\n"
          ]
        }
      ],
      "source": [
        "train(net, criterion, optimizer, num_epochs=20, decay_epochs=10, init_lr=0.001, task='classification')"
      ]
    },
    {
      "cell_type": "markdown",
      "metadata": {
        "id": "xjVTp9jhefTi"
      },
      "source": [
        "##Supervised training on the randomly initialized model\n",
        "In this section, we will randomly initialize a ResNet18 model and re-train the whole model on the classification task."
      ]
    },
    {
      "cell_type": "code",
      "execution_count": null,
      "metadata": {
        "id": "uEjy8TBieeLK"
      },
      "outputs": [],
      "source": [
        "import torch.nn as nn\n",
        "import torch.nn.functional as F\n",
        "\n",
        "\n",
        "from torchvision.models import resnet18\n",
        "\n",
        "# TODO: Randomly initialize a ResNet18 model\n",
        "#\n",
        "net = resnet18(num_classes = 10)\n",
        "for param in net.parameters():\n",
        "  param= torch.rand(size = param.size())\n",
        "\n",
        "net = net.to(device)"
      ]
    },
    {
      "cell_type": "code",
      "execution_count": null,
      "metadata": {
        "id": "jEY90pK_0ZAm"
      },
      "outputs": [],
      "source": [
        "# TODO: Define criterion and optimizer\n",
        "criterion = nn.CrossEntropyLoss()\n",
        "optimizer = torch.optim.Adam(lr = 1e-3, params= net.parameters())"
      ]
    },
    {
      "cell_type": "code",
      "execution_count": null,
      "metadata": {
        "id": "lMDwelhY0auO",
        "colab": {
          "base_uri": "https://localhost:8080/"
        },
        "outputId": "7a1b7de1-15a4-4b4a-dbbd-1dde2913abdf"
      },
      "outputs": [
        {
          "output_type": "stream",
          "name": "stdout",
          "text": [
            "[1,   100] loss: 1.815 acc: 33.65 time: 9.56\n",
            "[1,   200] loss: 1.552 acc: 43.25 time: 7.78\n",
            "[1,   300] loss: 1.436 acc: 47.56 time: 9.56\n",
            "TESTING:\n",
            "Accuracy of the network on the 10000 test images: 52.23 %\n",
            "Average loss on the 10000 test images: 1.385\n",
            "[2,   100] loss: 1.262 acc: 54.61 time: 9.64\n",
            "[2,   200] loss: 1.210 acc: 56.31 time: 9.98\n",
            "[2,   300] loss: 1.145 acc: 59.62 time: 10.24\n",
            "TESTING:\n",
            "Accuracy of the network on the 10000 test images: 62.80 %\n",
            "Average loss on the 10000 test images: 1.041\n",
            "[3,   100] loss: 1.052 acc: 62.62 time: 8.27\n",
            "[3,   200] loss: 1.026 acc: 63.62 time: 9.45\n",
            "[3,   300] loss: 1.004 acc: 64.66 time: 9.69\n",
            "TESTING:\n",
            "Accuracy of the network on the 10000 test images: 67.25 %\n",
            "Average loss on the 10000 test images: 0.918\n",
            "[4,   100] loss: 0.934 acc: 66.97 time: 9.11\n",
            "[4,   200] loss: 0.910 acc: 68.02 time: 9.41\n",
            "[4,   300] loss: 0.920 acc: 67.59 time: 8.33\n",
            "TESTING:\n",
            "Accuracy of the network on the 10000 test images: 70.60 %\n",
            "Average loss on the 10000 test images: 0.850\n",
            "[5,   100] loss: 0.849 acc: 70.25 time: 9.82\n",
            "[5,   200] loss: 0.838 acc: 70.42 time: 9.50\n",
            "[5,   300] loss: 0.839 acc: 70.84 time: 7.80\n",
            "TESTING:\n",
            "Accuracy of the network on the 10000 test images: 72.57 %\n",
            "Average loss on the 10000 test images: 0.789\n",
            "[6,   100] loss: 0.778 acc: 73.12 time: 9.97\n",
            "[6,   200] loss: 0.783 acc: 72.53 time: 9.13\n",
            "[6,   300] loss: 0.771 acc: 73.07 time: 8.14\n",
            "TESTING:\n",
            "Accuracy of the network on the 10000 test images: 74.11 %\n",
            "Average loss on the 10000 test images: 0.728\n",
            "[7,   100] loss: 0.731 acc: 74.64 time: 9.67\n",
            "[7,   200] loss: 0.734 acc: 74.73 time: 7.99\n",
            "[7,   300] loss: 0.721 acc: 74.99 time: 9.25\n",
            "TESTING:\n",
            "Accuracy of the network on the 10000 test images: 74.21 %\n",
            "Average loss on the 10000 test images: 0.764\n",
            "[8,   100] loss: 0.697 acc: 75.48 time: 9.19\n",
            "[8,   200] loss: 0.696 acc: 75.88 time: 8.61\n",
            "[8,   300] loss: 0.681 acc: 76.52 time: 9.59\n",
            "TESTING:\n",
            "Accuracy of the network on the 10000 test images: 76.09 %\n",
            "Average loss on the 10000 test images: 0.702\n",
            "[9,   100] loss: 0.649 acc: 77.59 time: 7.99\n",
            "[9,   200] loss: 0.663 acc: 76.86 time: 10.57\n",
            "[9,   300] loss: 0.643 acc: 77.58 time: 10.20\n",
            "TESTING:\n",
            "Accuracy of the network on the 10000 test images: 76.62 %\n",
            "Average loss on the 10000 test images: 0.683\n",
            "[10,   100] loss: 0.617 acc: 78.24 time: 8.32\n",
            "[10,   200] loss: 0.628 acc: 78.04 time: 9.13\n",
            "[10,   300] loss: 0.634 acc: 77.66 time: 9.78\n",
            "TESTING:\n",
            "Accuracy of the network on the 10000 test images: 75.72 %\n",
            "Average loss on the 10000 test images: 0.695\n",
            "[11,   100] loss: 0.551 acc: 80.92 time: 8.23\n",
            "[11,   200] loss: 0.505 acc: 82.58 time: 9.39\n",
            "[11,   300] loss: 0.486 acc: 82.84 time: 9.38\n",
            "TESTING:\n",
            "Accuracy of the network on the 10000 test images: 81.26 %\n",
            "Average loss on the 10000 test images: 0.541\n",
            "[12,   100] loss: 0.467 acc: 83.55 time: 10.10\n",
            "[12,   200] loss: 0.470 acc: 83.38 time: 9.27\n",
            "[12,   300] loss: 0.469 acc: 83.80 time: 7.73\n",
            "TESTING:\n",
            "Accuracy of the network on the 10000 test images: 81.61 %\n",
            "Average loss on the 10000 test images: 0.533\n",
            "[13,   100] loss: 0.464 acc: 83.86 time: 11.33\n",
            "[13,   200] loss: 0.460 acc: 83.86 time: 8.57\n",
            "[13,   300] loss: 0.465 acc: 83.80 time: 8.78\n",
            "TESTING:\n",
            "Accuracy of the network on the 10000 test images: 81.62 %\n",
            "Average loss on the 10000 test images: 0.535\n",
            "[14,   100] loss: 0.447 acc: 84.35 time: 9.40\n",
            "[14,   200] loss: 0.451 acc: 84.04 time: 7.84\n",
            "[14,   300] loss: 0.445 acc: 84.93 time: 9.37\n",
            "TESTING:\n",
            "Accuracy of the network on the 10000 test images: 82.21 %\n",
            "Average loss on the 10000 test images: 0.526\n",
            "[15,   100] loss: 0.446 acc: 84.28 time: 8.65\n",
            "[15,   200] loss: 0.437 acc: 84.76 time: 9.10\n",
            "[15,   300] loss: 0.427 acc: 85.10 time: 9.27\n",
            "TESTING:\n",
            "Accuracy of the network on the 10000 test images: 82.14 %\n",
            "Average loss on the 10000 test images: 0.525\n",
            "[16,   100] loss: 0.451 acc: 84.13 time: 7.94\n",
            "[16,   200] loss: 0.428 acc: 85.02 time: 9.53\n",
            "[16,   300] loss: 0.420 acc: 85.35 time: 9.84\n",
            "TESTING:\n",
            "Accuracy of the network on the 10000 test images: 82.31 %\n",
            "Average loss on the 10000 test images: 0.524\n",
            "[17,   100] loss: 0.419 acc: 85.36 time: 9.85\n",
            "[17,   200] loss: 0.417 acc: 85.16 time: 9.23\n",
            "[17,   300] loss: 0.419 acc: 85.16 time: 8.35\n",
            "TESTING:\n",
            "Accuracy of the network on the 10000 test images: 82.37 %\n",
            "Average loss on the 10000 test images: 0.519\n",
            "[18,   100] loss: 0.405 acc: 85.53 time: 10.09\n",
            "[18,   200] loss: 0.423 acc: 85.59 time: 8.06\n",
            "[18,   300] loss: 0.414 acc: 85.41 time: 9.21\n",
            "TESTING:\n",
            "Accuracy of the network on the 10000 test images: 82.56 %\n",
            "Average loss on the 10000 test images: 0.516\n",
            "[19,   100] loss: 0.409 acc: 85.80 time: 10.03\n",
            "[19,   200] loss: 0.394 acc: 86.06 time: 7.73\n",
            "[19,   300] loss: 0.406 acc: 85.89 time: 9.20\n",
            "TESTING:\n",
            "Accuracy of the network on the 10000 test images: 82.69 %\n",
            "Average loss on the 10000 test images: 0.524\n",
            "[20,   100] loss: 0.394 acc: 86.34 time: 8.50\n",
            "[20,   200] loss: 0.386 acc: 86.69 time: 10.90\n",
            "[20,   300] loss: 0.415 acc: 85.73 time: 9.46\n",
            "TESTING:\n",
            "Accuracy of the network on the 10000 test images: 82.70 %\n",
            "Average loss on the 10000 test images: 0.515\n",
            "Finished Training\n"
          ]
        }
      ],
      "source": [
        "train(net, criterion, optimizer, num_epochs=20, decay_epochs=10, init_lr=0.001, task='classification')"
      ]
    },
    {
      "cell_type": "code",
      "execution_count": null,
      "metadata": {
        "id": "6h-un86i2iMW"
      },
      "outputs": [],
      "source": []
    }
  ],
  "metadata": {
    "accelerator": "GPU",
    "colab": {
      "provenance": []
    },
    "gpuClass": "standard",
    "kernelspec": {
      "display_name": "Python 3",
      "name": "python3"
    },
    "language_info": {
      "name": "python"
    }
  },
  "nbformat": 4,
  "nbformat_minor": 0
}